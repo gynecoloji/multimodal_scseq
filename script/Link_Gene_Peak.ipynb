{
 "cells": [
  {
   "cell_type": "code",
   "execution_count": 2,
   "id": "65be1449",
   "metadata": {},
   "outputs": [],
   "source": [
    "from anndata import AnnData\n",
    "import numpy as np\n",
    "import pandas as pd\n",
    "import h5py\n",
    "import pyranges as pr\n",
    "import scanpy as sc"
   ]
  },
  {
   "cell_type": "code",
   "execution_count": 4,
   "id": "8f2d76b8",
   "metadata": {},
   "outputs": [],
   "source": [
    "data_read = \"../data/for_python/\"\n",
    "analysis_save = \"../analysis/\"\n",
    "data_save = \"../data/for_python/\"\n",
    "\n",
    "# Read the H5 file\n",
    "h5_file = 'multiome_normalized.h5'\n",
    "\n",
    "with h5py.File(data_read+h5_file, 'r') as f:\n",
    "    # Read the matrices\n",
    "    rna_counts = f['rna_counts'][:]\n",
    "    rna_normalized = f['rna_normalized'][:]\n",
    "    atac_counts = f['atac_counts'][:]\n",
    "    atac_normalized = f['atac_normalized'][:]\n",
    "    \n",
    "    # Read the names/identifiers\n",
    "    rna_gene_names = f['rna_gene_names'][:]\n",
    "    atac_feature_names = f['atac_feature_names'][:]\n",
    "    cell_names = f['cell_names'][:]\n",
    "    \n",
    "    # Convert bytes to strings (HDF5 stores strings as bytes)\n",
    "    if rna_gene_names.dtype.char == 'S':  # If stored as bytes\n",
    "        rna_gene_names = [name.decode('utf-8') for name in rna_gene_names]\n",
    "    \n",
    "    if atac_feature_names.dtype.char == 'S':\n",
    "        atac_feature_names = [name.decode('utf-8') for name in atac_feature_names]\n",
    "    \n",
    "    if cell_names.dtype.char == 'S':\n",
    "        cell_names = [name.decode('utf-8') for name in cell_names]\n",
    "    \n",
    "    # Read metadata\n",
    "    metadata = {}\n",
    "    for key in f['metadata'].keys():\n",
    "        data = f['metadata'][key][:]\n",
    "        # Convert bytes to strings if needed\n",
    "        if data.dtype.char == 'S':\n",
    "            data = [item.decode('utf-8') for item in data]\n",
    "        metadata[key] = data"
   ]
  },
  {
   "cell_type": "code",
   "execution_count": 5,
   "id": "b591f63c",
   "metadata": {},
   "outputs": [],
   "source": [
    "rna_gene_names = np.array([x.decode('utf-8') if isinstance(x, bytes) else str(x) for x in rna_gene_names])\n",
    "atac_feature_names = np.array([x.decode('utf-8') if isinstance(x, bytes) else str(x) for x in atac_feature_names])\n",
    "cell_names = np.array([x.decode('utf-8') if isinstance(x, bytes) else str(x) for x in cell_names])\n"
   ]
  },
  {
   "cell_type": "code",
   "execution_count": 32,
   "id": "920997e3",
   "metadata": {},
   "outputs": [],
   "source": [
    "rna_gene_names = rna_gene_names.tolist()\n",
    "atac_feature_names = atac_feature_names.tolist()\n",
    "cell_names = cell_names.tolist()"
   ]
  },
  {
   "cell_type": "code",
   "execution_count": 25,
   "id": "01d8b9da",
   "metadata": {},
   "outputs": [],
   "source": [
    "# read genomic regions data\n",
    "ann = pr.read_gtf(\"../data/Homo_sapiens.GRCh38.102.gtf\")"
   ]
  },
  {
   "cell_type": "code",
   "execution_count": 51,
   "id": "dbe99005",
   "metadata": {},
   "outputs": [],
   "source": [
    "ann_select = ann[ann.Feature == 'gene']\n",
    "ann_select = ann_select[ann_select.gene_name.isin(rna_gene_names)]\n",
    "ann_select = ann_select[[ 'gene_name']]\n",
    "ann_select = ann_select.extend({'5': 3000})\n",
    "ann_select[ann_select.Start < 0]"
   ]
  },
  {
   "cell_type": "code",
   "execution_count": 35,
   "id": "04400da2",
   "metadata": {},
   "outputs": [],
   "source": [
    "filtered_genes = set(rna_gene_names).intersection(set(ann_select.gene_name.values))"
   ]
  },
  {
   "cell_type": "code",
   "execution_count": 42,
   "id": "e3d44463",
   "metadata": {},
   "outputs": [],
   "source": [
    "# convert genomic regions\n",
    "atac_feature_names_pr = [[name.split('-')[0], name.split('-')[1], name.split('-')[2]] for name in atac_feature_names]\n",
    "atac_feature_names_pr = pd.DataFrame(atac_feature_names_pr, columns=['Chromosome', 'Start', 'End'])\n",
    "atac_feature_names_pr = pr.PyRanges(atac_feature_names_pr)"
   ]
  }
 ],
 "metadata": {
  "kernelspec": {
   "display_name": "sklearn",
   "language": "python",
   "name": "python3"
  },
  "language_info": {
   "codemirror_mode": {
    "name": "ipython",
    "version": 3
   },
   "file_extension": ".py",
   "mimetype": "text/x-python",
   "name": "python",
   "nbconvert_exporter": "python",
   "pygments_lexer": "ipython3",
   "version": "3.13.3"
  }
 },
 "nbformat": 4,
 "nbformat_minor": 5
}
